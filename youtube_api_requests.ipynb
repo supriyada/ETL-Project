{
 "cells": [
  {
   "cell_type": "code",
   "execution_count": 2,
   "metadata": {},
   "outputs": [],
   "source": [
    "import pandas as pd\n",
    "import numpy as np\n",
    "import requests\n",
    "import json\n",
    "from pprint import pprint\n",
    "\n",
    "# Import API key\n",
    "from api_keys import g_key\n",
    "from googleapiclient.discovery import build"
   ]
  },
  {
   "cell_type": "code",
   "execution_count": 12,
   "metadata": {},
   "outputs": [],
   "source": [
    "youtube = build('youtube','v3',developerKey=g_key)"
   ]
  },
  {
   "cell_type": "code",
   "execution_count": 23,
   "metadata": {},
   "outputs": [],
   "source": [
    "request = youtube.channels().list(part='snippet,statistics',id='UC0UnhAG47DRyVZGVcbhAXhQ')\n",
    "\n",
    "response = request.execute()"
   ]
  },
  {
   "cell_type": "code",
   "execution_count": 24,
   "metadata": {},
   "outputs": [
    {
     "name": "stdout",
     "output_type": "stream",
     "text": [
      "{\n",
      "    \"etag\": \"7EE8UWdhw8W63zHk4chlIskkyo4\",\n",
      "    \"items\": [\n",
      "        {\n",
      "            \"etag\": \"z4LYkMuERYtVWRdFW8k61fEyPWA\",\n",
      "            \"id\": \"UC0UnhAG47DRyVZGVcbhAXhQ\",\n",
      "            \"kind\": \"youtube#channel\",\n",
      "            \"snippet\": {\n",
      "                \"country\": \"MX\",\n",
      "                \"customUrl\": \"saultpchannel\",\n",
      "                \"description\": \"..\\nLifestyle\\nSociety point of view\\nMusic & Dance\\nScience & Technology\\n-\\nsaultp@hotmail.com\",\n",
      "                \"localized\": {\n",
      "                    \"description\": \"..\\nLifestyle\\nSociety point of view\\nMusic & Dance\\nScience & Technology\\n-\\nsaultp@hotmail.com\",\n",
      "                    \"title\": \"Saul TP Channel\"\n",
      "                },\n",
      "                \"publishedAt\": \"2007-02-08T20:41:20Z\",\n",
      "                \"thumbnails\": {\n",
      "                    \"default\": {\n",
      "                        \"height\": 88,\n",
      "                        \"url\": \"https://yt3.ggpht.com/ytc/AAUvwnhE10QP1RAwKm_reUUgEslgjg1oVRDoKr6SgP4tsw=s88-c-k-c0x00ffffff-no-rj\",\n",
      "                        \"width\": 88\n",
      "                    },\n",
      "                    \"high\": {\n",
      "                        \"height\": 800,\n",
      "                        \"url\": \"https://yt3.ggpht.com/ytc/AAUvwnhE10QP1RAwKm_reUUgEslgjg1oVRDoKr6SgP4tsw=s800-c-k-c0x00ffffff-no-rj\",\n",
      "                        \"width\": 800\n",
      "                    },\n",
      "                    \"medium\": {\n",
      "                        \"height\": 240,\n",
      "                        \"url\": \"https://yt3.ggpht.com/ytc/AAUvwnhE10QP1RAwKm_reUUgEslgjg1oVRDoKr6SgP4tsw=s240-c-k-c0x00ffffff-no-rj\",\n",
      "                        \"width\": 240\n",
      "                    }\n",
      "                },\n",
      "                \"title\": \"Saul TP Channel\"\n",
      "            },\n",
      "            \"statistics\": {\n",
      "                \"hiddenSubscriberCount\": false,\n",
      "                \"subscriberCount\": \"659\",\n",
      "                \"videoCount\": \"105\",\n",
      "                \"viewCount\": \"209264\"\n",
      "            }\n",
      "        }\n",
      "    ],\n",
      "    \"kind\": \"youtube#channelListResponse\",\n",
      "    \"pageInfo\": {\n",
      "        \"resultsPerPage\": 5,\n",
      "        \"totalResults\": 1\n",
      "    }\n",
      "}\n"
     ]
    }
   ],
   "source": [
    "print(json.dumps(response, sort_keys=True, indent=4))"
   ]
  },
  {
   "cell_type": "code",
   "execution_count": 39,
   "metadata": {},
   "outputs": [],
   "source": [
    "#id='UC0UnhAG47DRyVZGVcbhAXhQ'\n",
    "base_url = f'https://youtube.googleapis.com/youtube/v3/search?part=snippet&channelId=UCZNDDbxNipTnfrSH4NpuoOw&key={g_key}'"
   ]
  },
  {
   "cell_type": "code",
   "execution_count": 46,
   "metadata": {},
   "outputs": [],
   "source": [
    "base_url = f'https://youtube.googleapis.com/youtube/v3/channels?part=snippet&part=statistics&id=UC0UnhAG47DRyVZGVcbhAXhQ&key={g_key}'"
   ]
  },
  {
   "cell_type": "code",
   "execution_count": 47,
   "metadata": {},
   "outputs": [],
   "source": [
    "resp = requests.get(base_url)"
   ]
  },
  {
   "cell_type": "code",
   "execution_count": 48,
   "metadata": {},
   "outputs": [],
   "source": [
    "results = resp.json()\n"
   ]
  },
  {
   "cell_type": "code",
   "execution_count": 49,
   "metadata": {},
   "outputs": [
    {
     "name": "stdout",
     "output_type": "stream",
     "text": [
      "Saul TP Channel\n",
      "2007-02-08T20:41:20Z\n",
      "105\n",
      "209264\n",
      "MX\n"
     ]
    }
   ],
   "source": [
    "print(results['items'][0]['snippet']['title'])\n",
    "print(results['items'][0]['snippet']['publishedAt'])\n",
    "#hiddenSubscriberCount\n",
    "#print(results['items'][0]['statistics']['hiddenSubscriberCount'])\n",
    "print(results['items'][0]['statistics']['videoCount'])\n",
    "print(results['items'][0]['statistics']['viewCount'])\n",
    "print(results['items'][0]['snippet']['country'])"
   ]
  },
  {
   "cell_type": "code",
   "execution_count": 42,
   "metadata": {},
   "outputs": [
    {
     "name": "stdout",
     "output_type": "stream",
     "text": [
      "{'etag': '-fp-NDKy3yZXOs60e9KGMFKiBh0',\n",
      " 'items': [{'etag': 'M1jlCr-vcKmeXcGsRHP6_xhkdeI',\n",
      "            'id': {'kind': 'youtube#video', 'videoId': 'huMZMqEWmtE'},\n",
      "            'kind': 'youtube#searchResult',\n",
      "            'snippet': {'channelId': 'UCZNDDbxNipTnfrSH4NpuoOw',\n",
      "                        'channelTitle': 'TimothyMBoudreaux',\n",
      "                        'description': \"Simple Video on how the McDonald's Egg \"\n",
      "                                       'McMuffin is made.',\n",
      "                        'liveBroadcastContent': 'none',\n",
      "                        'publishTime': '2010-03-07T01:27:53Z',\n",
      "                        'publishedAt': '2010-03-07T01:27:53Z',\n",
      "                        'thumbnails': {'default': {'height': 90,\n",
      "                                                   'url': 'https://i.ytimg.com/vi/huMZMqEWmtE/default.jpg',\n",
      "                                                   'width': 120},\n",
      "                                       'high': {'height': 360,\n",
      "                                                'url': 'https://i.ytimg.com/vi/huMZMqEWmtE/hqdefault.jpg',\n",
      "                                                'width': 480},\n",
      "                                       'medium': {'height': 180,\n",
      "                                                  'url': 'https://i.ytimg.com/vi/huMZMqEWmtE/mqdefault.jpg',\n",
      "                                                  'width': 320}},\n",
      "                        'title': 'McDonald&#39;s Egg McMuffin'}},\n",
      "           {'etag': 'tm15Daw1fN_RUv-mxR28Lqg6KsM',\n",
      "            'id': {'kind': 'youtube#video', 'videoId': 'TlmPZJjBk-I'},\n",
      "            'kind': 'youtube#searchResult',\n",
      "            'snippet': {'channelId': 'UCZNDDbxNipTnfrSH4NpuoOw',\n",
      "                        'channelTitle': 'TimothyMBoudreaux',\n",
      "                        'description': 'The song Captured by the Cross with '\n",
      "                                       'Lyrics.',\n",
      "                        'liveBroadcastContent': 'none',\n",
      "                        'publishTime': '2010-05-19T06:57:59Z',\n",
      "                        'publishedAt': '2010-05-19T06:57:59Z',\n",
      "                        'thumbnails': {'default': {'height': 90,\n",
      "                                                   'url': 'https://i.ytimg.com/vi/TlmPZJjBk-I/default.jpg',\n",
      "                                                   'width': 120},\n",
      "                                       'high': {'height': 360,\n",
      "                                                'url': 'https://i.ytimg.com/vi/TlmPZJjBk-I/hqdefault.jpg',\n",
      "                                                'width': 480},\n",
      "                                       'medium': {'height': 180,\n",
      "                                                  'url': 'https://i.ytimg.com/vi/TlmPZJjBk-I/mqdefault.jpg',\n",
      "                                                  'width': 320}},\n",
      "                        'title': 'Chad Fletcher-Captured by the Cross with '\n",
      "                                 'Lyrics'}},\n",
      "           {'etag': '6tP47CVMfCsasXr6-zWGSfpOUmA',\n",
      "            'id': {'channelId': 'UCZNDDbxNipTnfrSH4NpuoOw',\n",
      "                   'kind': 'youtube#channel'},\n",
      "            'kind': 'youtube#searchResult',\n",
      "            'snippet': {'channelId': 'UCZNDDbxNipTnfrSH4NpuoOw',\n",
      "                        'channelTitle': 'TimothyMBoudreaux',\n",
      "                        'description': '',\n",
      "                        'liveBroadcastContent': 'none',\n",
      "                        'publishTime': '2008-04-25T00:48:42Z',\n",
      "                        'publishedAt': '2008-04-25T00:48:42Z',\n",
      "                        'thumbnails': {'default': {'url': 'https://yt3.ggpht.com/ytc/AAUvwniZm3VeBO19Z0qrkNTBxCrQr4aK6gmqyqiCca4v=s88-c-k-c0xffffffff-no-rj-mo'},\n",
      "                                       'high': {'url': 'https://yt3.ggpht.com/ytc/AAUvwniZm3VeBO19Z0qrkNTBxCrQr4aK6gmqyqiCca4v=s800-c-k-c0xffffffff-no-rj-mo'},\n",
      "                                       'medium': {'url': 'https://yt3.ggpht.com/ytc/AAUvwniZm3VeBO19Z0qrkNTBxCrQr4aK6gmqyqiCca4v=s240-c-k-c0xffffffff-no-rj-mo'}},\n",
      "                        'title': 'TimothyMBoudreaux'}},\n",
      "           {'etag': 'iCcIcS-J78nr5QBXQRDmlWycgEM',\n",
      "            'id': {'kind': 'youtube#video', 'videoId': '--ezS5q-mZg'},\n",
      "            'kind': 'youtube#searchResult',\n",
      "            'snippet': {'channelId': 'UCZNDDbxNipTnfrSH4NpuoOw',\n",
      "                        'channelTitle': 'TimothyMBoudreaux',\n",
      "                        'description': 'This is a cool video about the making '\n",
      "                                       \"and process of McDonald's Beef.\",\n",
      "                        'liveBroadcastContent': 'none',\n",
      "                        'publishTime': '2010-03-09T20:34:05Z',\n",
      "                        'publishedAt': '2010-03-09T20:34:05Z',\n",
      "                        'thumbnails': {'default': {'height': 90,\n",
      "                                                   'url': 'https://i.ytimg.com/vi/--ezS5q-mZg/default.jpg',\n",
      "                                                   'width': 120},\n",
      "                                       'high': {'height': 360,\n",
      "                                                'url': 'https://i.ytimg.com/vi/--ezS5q-mZg/hqdefault.jpg',\n",
      "                                                'width': 480},\n",
      "                                       'medium': {'height': 180,\n",
      "                                                  'url': 'https://i.ytimg.com/vi/--ezS5q-mZg/mqdefault.jpg',\n",
      "                                                  'width': 320}},\n",
      "                        'title': 'McDonald&#39;s Beef'}},\n",
      "           {'etag': 'GkuqlPmhPPOSil1kKMiK2eWFCi0',\n",
      "            'id': {'kind': 'youtube#video', 'videoId': 'iGqxU0Qd3A0'},\n",
      "            'kind': 'youtube#searchResult',\n",
      "            'snippet': {'channelId': 'UCZNDDbxNipTnfrSH4NpuoOw',\n",
      "                        'channelTitle': 'TimothyMBoudreaux',\n",
      "                        'description': \"Simple video on how the McDonald's \"\n",
      "                                       'McCafe Vanilla Latte is made.',\n",
      "                        'liveBroadcastContent': 'none',\n",
      "                        'publishTime': '2010-03-07T01:53:05Z',\n",
      "                        'publishedAt': '2010-03-07T01:53:05Z',\n",
      "                        'thumbnails': {'default': {'height': 90,\n",
      "                                                   'url': 'https://i.ytimg.com/vi/iGqxU0Qd3A0/default.jpg',\n",
      "                                                   'width': 120},\n",
      "                                       'high': {'height': 360,\n",
      "                                                'url': 'https://i.ytimg.com/vi/iGqxU0Qd3A0/hqdefault.jpg',\n",
      "                                                'width': 480},\n",
      "                                       'medium': {'height': 180,\n",
      "                                                  'url': 'https://i.ytimg.com/vi/iGqxU0Qd3A0/mqdefault.jpg',\n",
      "                                                  'width': 320}},\n",
      "                        'title': 'McDonald&#39;s McCafe Vanilla Latte'}}],\n",
      " 'kind': 'youtube#searchListResponse',\n",
      " 'nextPageToken': 'CAUQAA',\n",
      " 'pageInfo': {'resultsPerPage': 5, 'totalResults': 23},\n",
      " 'regionCode': 'US'}\n"
     ]
    }
   ],
   "source": [
    "pprint(results)"
   ]
  }
 ],
 "metadata": {
  "kernelspec": {
   "display_name": "Python 3",
   "language": "python",
   "name": "python3"
  },
  "language_info": {
   "codemirror_mode": {
    "name": "ipython",
    "version": 3
   },
   "file_extension": ".py",
   "mimetype": "text/x-python",
   "name": "python",
   "nbconvert_exporter": "python",
   "pygments_lexer": "ipython3",
   "version": "3.8.5"
  }
 },
 "nbformat": 4,
 "nbformat_minor": 4
}
