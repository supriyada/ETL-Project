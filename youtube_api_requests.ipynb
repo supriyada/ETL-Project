{
 "cells": [
  {
   "cell_type": "code",
   "execution_count": null,
   "metadata": {},
   "outputs": [],
   "source": [
    "import pandas as pd\n",
    "import numpy as np\n",
    "import requests\n",
    "import json\n",
    "from pprint import pprint\n",
    "\n",
    "# Import API key\n",
    "from api_keys import g_key\n",
    "from googleapiclient.discovery import build"
   ]
  },
  {
   "cell_type": "code",
   "execution_count": null,
   "metadata": {},
   "outputs": [],
   "source": [
    "youtube = build('youtube','v3',developerKey=g_key)"
   ]
  },
  {
   "cell_type": "code",
   "execution_count": null,
   "metadata": {},
   "outputs": [],
   "source": [
    "request = youtube.channels().list(part='snippet,statistics',id='UC0UnhAG47DRyVZGVcbhAXhQ')\n",
    "\n",
    "response = request.execute()"
   ]
  },
  {
   "cell_type": "code",
   "execution_count": null,
   "metadata": {},
   "outputs": [],
   "source": [
    "print(json.dumps(response, sort_keys=True, indent=4))"
   ]
  },
  {
   "cell_type": "code",
   "execution_count": null,
   "metadata": {},
   "outputs": [],
   "source": [
    "#id='UC0UnhAG47DRyVZGVcbhAXhQ'\n",
    "base_url = f'https://youtube.googleapis.com/youtube/v3/channels?part=snippet&part=statistics&id=UCbCmjCuTUZos6Inko4u57UQ&key={g_key}'"
   ]
  },
  {
   "cell_type": "code",
   "execution_count": null,
   "metadata": {},
   "outputs": [],
   "source": [
    "base_url = f'https://youtube.googleapis.com/youtube/v3/channels?part=snippet&part=statistics&id=UC0UnhAG47DRyVZGVcbhAXhQ&key={g_key}'"
   ]
  },
  {
   "cell_type": "code",
   "execution_count": null,
   "metadata": {},
   "outputs": [],
   "source": [
    "resp = requests.get(base_url)"
   ]
  },
  {
   "cell_type": "code",
   "execution_count": null,
   "metadata": {},
   "outputs": [],
   "source": [
    "results = resp.json()\n"
   ]
  },
  {
   "cell_type": "code",
   "execution_count": null,
   "metadata": {},
   "outputs": [],
   "source": [
    "print(results['items'][0]['snippet']['title'])\n",
    "print(results['items'][0]['snippet']['publishedAt'])\n",
    "#hiddenSubscriberCount\n",
    "#print(results['items'][0]['statistics']['hiddenSubscriberCount'])\n",
    "print(results['items'][0]['statistics']['videoCount'])\n",
    "print(results['items'][0]['statistics']['viewCount'])\n",
    "print(results['items'][0]['snippet']['country'])"
   ]
  },
  {
   "cell_type": "code",
   "execution_count": null,
   "metadata": {},
   "outputs": [],
   "source": [
    "pprint(results)"
   ]
  },
  {
   "cell_type": "code",
   "execution_count": 6,
   "metadata": {},
   "outputs": [
    {
     "name": "stdout",
     "output_type": "stream",
     "text": [
      "completed 0\n",
      "Details of UCmb0LnmFYceH7toqgmUTJDA channels are extracted successfully\n"
     ]
    },
    {
     "data": {
      "text/html": [
       "<div>\n",
       "<style scoped>\n",
       "    .dataframe tbody tr th:only-of-type {\n",
       "        vertical-align: middle;\n",
       "    }\n",
       "\n",
       "    .dataframe tbody tr th {\n",
       "        vertical-align: top;\n",
       "    }\n",
       "\n",
       "    .dataframe thead th {\n",
       "        text-align: right;\n",
       "    }\n",
       "</style>\n",
       "<table border=\"1\" class=\"dataframe\">\n",
       "  <thead>\n",
       "    <tr style=\"text-align: right;\">\n",
       "      <th></th>\n",
       "      <th>Channel_id</th>\n",
       "      <th>Channel_title</th>\n",
       "      <th>Created_date</th>\n",
       "      <th>Video_count</th>\n",
       "      <th>Views_count</th>\n",
       "      <th>Subscription_count</th>\n",
       "      <th>Subscription_count_hidden</th>\n",
       "      <th>Country</th>\n",
       "    </tr>\n",
       "  </thead>\n",
       "  <tbody>\n",
       "    <tr>\n",
       "      <th>0</th>\n",
       "      <td>UCmb0LnmFYceH7toqgmUTJDA</td>\n",
       "      <td>Vandal</td>\n",
       "      <td>2015-02-25T12:42:55Z</td>\n",
       "      <td>2668</td>\n",
       "      <td>182014462</td>\n",
       "      <td>1200000</td>\n",
       "      <td>False</td>\n",
       "      <td>ES</td>\n",
       "    </tr>\n",
       "  </tbody>\n",
       "</table>\n",
       "</div>"
      ],
      "text/plain": [
       "                 Channel_id Channel_title          Created_date Video_count  \\\n",
       "0  UCmb0LnmFYceH7toqgmUTJDA        Vandal  2015-02-25T12:42:55Z        2668   \n",
       "\n",
       "  Views_count Subscription_count Subscription_count_hidden Country  \n",
       "0   182014462            1200000                     False      ES  "
      ]
     },
     "execution_count": 6,
     "metadata": {},
     "output_type": "execute_result"
    }
   ],
   "source": [
    "import pandas as pd\n",
    "import requests\n",
    "import json\n",
    "import os\n",
    "from pprint import pprint\n",
    "import time\n",
    "\n",
    "# Import API key\n",
    "from api_keys import g_key\n",
    "\n",
    "#channel_input=os.path.join('Resources','Output Data','channel_scrapped_details.csv')\n",
    "\n",
    "#channel_input_df = pd.read_csv(channel_input)\n",
    "\n",
    "id_list = ['UCmb0LnmFYceH7toqgmUTJDA'] #channel_input_df['Channel_id'].to_list()\n",
    "\n",
    "channel_Details_df = pd.DataFrame({'Channel_id':[],\n",
    "                        'Channel_title':[],\n",
    "                        'Created_date':[],\n",
    "                        'Video_count':[],\n",
    "                        'Views_count':[],\n",
    "                        'Subscription_count':[],\n",
    "                        'Subscription_count_hidden':[],\n",
    "                        'Country':[]})\n",
    "count = 0\n",
    "for id in id_list:\n",
    "\n",
    "    try:\n",
    "        base_url = f'https://youtube.googleapis.com/youtube/v3/channels?part=snippet&part=statistics&id={id}&key={g_key}'\n",
    "        resp = requests.get(base_url)\n",
    "        results = resp.json()\n",
    "\n",
    "        title = results['items'][0]['snippet']['title']\n",
    "        created = results['items'][0]['snippet']['publishedAt']\n",
    "        sub_count_stat = results['items'][0]['statistics']['hiddenSubscriberCount']\n",
    "        if sub_count_stat == True:\n",
    "            sub_count = 0\n",
    "        else:\n",
    "            sub_count_stat = False\n",
    "            sub_count = results['items'][0]['statistics']['subscriberCount']\n",
    "        video_cnt = results['items'][0]['statistics']['videoCount']\n",
    "        view_count = results['items'][0]['statistics']['viewCount']\n",
    "        country = results['items'][0]['snippet']['country']\n",
    "                    \n",
    "        channel_Details_df = channel_Details_df.append({'Channel_id':id,\n",
    "                                'Channel_title':title,\n",
    "                                'Created_date':created,\n",
    "                                'Video_count':video_cnt,\n",
    "                                'Views_count':view_count,\n",
    "                                'Subscription_count':sub_count,\n",
    "                                'Subscription_count_hidden':str(sub_count_stat),\n",
    "                                'Country':country},ignore_index = True)\n",
    "\n",
    "    except Exception as e:\n",
    "        print(e)\n",
    "        channel_Details_df = channel_Details_df.append({'Channel_id':id,\n",
    "                                'Channel_title':title,\n",
    "                                'Created_date':created,\n",
    "                                'Video_count':video_cnt,\n",
    "                                'Views_count':view_count,\n",
    "                                'Subscription_count':sub_count,\n",
    "                                'Subscription_count_hidden':str(sub_count_stat),\n",
    "                                'Country':'NA'},ignore_index = True)\n",
    "        print(f'Details of {id} channels are not extracted successfully')\n",
    "    \n",
    "    print(f'completed {count}')\n",
    "    count += 1\n",
    "    time.sleep(1)\n",
    "    print(f'Details of {id} channels are extracted successfully')\n",
    "    \n",
    "channel_Details_df"
   ]
  },
  {
   "cell_type": "code",
   "execution_count": 2,
   "metadata": {},
   "outputs": [
    {
     "name": "stdout",
     "output_type": "stream",
     "text": [
      "{'kind': 'youtube#channelListResponse', 'etag': 'LLdBZVmgGTWo8o44QWo71UV3AOQ', 'pageInfo': {'totalResults': 1, 'resultsPerPage': 5}, 'items': [{'kind': 'youtube#channel', 'etag': 'J2whtrVyxTjb_KHPr0eIE-UrDzo', 'id': 'UCk8GzjMOrta8yxDcKfylJYw', 'snippet': {'title': '✿ Kids Diana Show', 'description': 'Love, Diana toys at Walmart: https://www.walmart.com/browse/toys/love-diana-toys/4171_7144110_2716378 \\nLove, Diana at Smyths Toys: https://pktw.ch/lovedianasmyths\\n\\n\\nE-mail: nicefamilyshow@gmail.com', 'customUrl': 'kidsdianashow', 'publishedAt': '2015-05-12T08:26:57Z', 'thumbnails': {'default': {'url': 'https://yt3.ggpht.com/ytc/AAUvwnh_30ImpvPQAGmRMJ-ZIQ5xmO1Oed4UUgWScmMz9Q=s88-c-k-c0x00ffffff-no-rj', 'width': 88, 'height': 88}, 'medium': {'url': 'https://yt3.ggpht.com/ytc/AAUvwnh_30ImpvPQAGmRMJ-ZIQ5xmO1Oed4UUgWScmMz9Q=s240-c-k-c0x00ffffff-no-rj', 'width': 240, 'height': 240}, 'high': {'url': 'https://yt3.ggpht.com/ytc/AAUvwnh_30ImpvPQAGmRMJ-ZIQ5xmO1Oed4UUgWScmMz9Q=s800-c-k-c0x00ffffff-no-rj', 'width': 800, 'height': 800}}, 'defaultLanguage': 'ru', 'localized': {'title': '✿ Kids Diana Show', 'description': 'Love, Diana toys at Walmart: https://www.walmart.com/browse/toys/love-diana-toys/4171_7144110_2716378 \\nLove, Diana at Smyths Toys: https://pktw.ch/lovedianasmyths\\n\\n\\nE-mail: nicefamilyshow@gmail.com'}, 'country': 'US'}, 'statistics': {'viewCount': '54914440601', 'subscriberCount': '77400000', 'hiddenSubscriberCount': False, 'videoCount': '847'}}]}\n"
     ]
    }
   ],
   "source": [
    "print(results)"
   ]
  }
 ],
 "metadata": {
  "kernelspec": {
   "display_name": "Python 3",
   "language": "python",
   "name": "python3"
  },
  "language_info": {
   "codemirror_mode": {
    "name": "ipython",
    "version": 3
   },
   "file_extension": ".py",
   "mimetype": "text/x-python",
   "name": "python",
   "nbconvert_exporter": "python",
   "pygments_lexer": "ipython3",
   "version": "3.8.5"
  }
 },
 "nbformat": 4,
 "nbformat_minor": 4
}
