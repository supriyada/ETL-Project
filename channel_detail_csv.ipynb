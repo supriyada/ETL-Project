{
 "cells": [
  {
   "cell_type": "code",
   "execution_count": 1,
   "metadata": {},
   "outputs": [],
   "source": [
    "def channel_details_csv():\n",
    "    import pandas as pd\n",
    "    import os\n",
    "    channel_details_file=os.path.join('Resources','Raw Data','Channel_details.csv')\n",
    "\n",
    "    channel_details_raw_df = pd.read_csv(channel_details_file)\n",
    "\n",
    "    channel_details_df = channel_details_raw_df[['channelid','videocategoryid','channelviewcount','videocount','subscribercount']]\n",
    "    \n",
    "    channel_info_out_path=os.path.join('Resources','Output Data','channel_info.csv')\n",
    "    channel_details_df.to_csv(channel_info_out_path,index=False)\n",
    "    \n",
    "    return channel_details_df"
   ]
  },
  {
   "cell_type": "code",
   "execution_count": null,
   "metadata": {},
   "outputs": [],
   "source": []
  }
 ],
 "metadata": {
  "kernelspec": {
   "display_name": "Python 3",
   "language": "python",
   "name": "python3"
  },
  "language_info": {
   "codemirror_mode": {
    "name": "ipython",
    "version": 3
   },
   "file_extension": ".py",
   "mimetype": "text/x-python",
   "name": "python",
   "nbconvert_exporter": "python",
   "pygments_lexer": "ipython3",
   "version": "3.8.5"
  }
 },
 "nbformat": 4,
 "nbformat_minor": 4
}
