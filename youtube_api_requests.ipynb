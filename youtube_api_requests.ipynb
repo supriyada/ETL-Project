{
 "cells": [
  {
   "cell_type": "code",
   "execution_count": 2,
   "metadata": {},
   "outputs": [],
   "source": [
    "import pandas as pd\n",
    "import numpy as np\n",
    "import requests\n",
    "import json\n",
    "from pprint import pprint\n",
    "\n",
    "# Import API key\n",
    "from api_keys import g_key\n",
    "from googleapiclient.discovery import build"
   ]
  },
  {
   "cell_type": "code",
   "execution_count": 12,
   "metadata": {},
   "outputs": [],
   "source": [
    "youtube = build('youtube','v3',developerKey=g_key)"
   ]
  },
  {
   "cell_type": "code",
   "execution_count": 23,
   "metadata": {},
   "outputs": [],
   "source": [
    "request = youtube.channels().list(part='snippet,statistics',id='UC0UnhAG47DRyVZGVcbhAXhQ')\n",
    "\n",
    "response = request.execute()"
   ]
  },
  {
   "cell_type": "code",
   "execution_count": 24,
   "metadata": {},
   "outputs": [
    {
     "name": "stdout",
     "output_type": "stream",
     "text": [
      "{\n",
      "    \"etag\": \"7EE8UWdhw8W63zHk4chlIskkyo4\",\n",
      "    \"items\": [\n",
      "        {\n",
      "            \"etag\": \"z4LYkMuERYtVWRdFW8k61fEyPWA\",\n",
      "            \"id\": \"UC0UnhAG47DRyVZGVcbhAXhQ\",\n",
      "            \"kind\": \"youtube#channel\",\n",
      "            \"snippet\": {\n",
      "                \"country\": \"MX\",\n",
      "                \"customUrl\": \"saultpchannel\",\n",
      "                \"description\": \"..\\nLifestyle\\nSociety point of view\\nMusic & Dance\\nScience & Technology\\n-\\nsaultp@hotmail.com\",\n",
      "                \"localized\": {\n",
      "                    \"description\": \"..\\nLifestyle\\nSociety point of view\\nMusic & Dance\\nScience & Technology\\n-\\nsaultp@hotmail.com\",\n",
      "                    \"title\": \"Saul TP Channel\"\n",
      "                },\n",
      "                \"publishedAt\": \"2007-02-08T20:41:20Z\",\n",
      "                \"thumbnails\": {\n",
      "                    \"default\": {\n",
      "                        \"height\": 88,\n",
      "                        \"url\": \"https://yt3.ggpht.com/ytc/AAUvwnhE10QP1RAwKm_reUUgEslgjg1oVRDoKr6SgP4tsw=s88-c-k-c0x00ffffff-no-rj\",\n",
      "                        \"width\": 88\n",
      "                    },\n",
      "                    \"high\": {\n",
      "                        \"height\": 800,\n",
      "                        \"url\": \"https://yt3.ggpht.com/ytc/AAUvwnhE10QP1RAwKm_reUUgEslgjg1oVRDoKr6SgP4tsw=s800-c-k-c0x00ffffff-no-rj\",\n",
      "                        \"width\": 800\n",
      "                    },\n",
      "                    \"medium\": {\n",
      "                        \"height\": 240,\n",
      "                        \"url\": \"https://yt3.ggpht.com/ytc/AAUvwnhE10QP1RAwKm_reUUgEslgjg1oVRDoKr6SgP4tsw=s240-c-k-c0x00ffffff-no-rj\",\n",
      "                        \"width\": 240\n",
      "                    }\n",
      "                },\n",
      "                \"title\": \"Saul TP Channel\"\n",
      "            },\n",
      "            \"statistics\": {\n",
      "                \"hiddenSubscriberCount\": false,\n",
      "                \"subscriberCount\": \"659\",\n",
      "                \"videoCount\": \"105\",\n",
      "                \"viewCount\": \"209264\"\n",
      "            }\n",
      "        }\n",
      "    ],\n",
      "    \"kind\": \"youtube#channelListResponse\",\n",
      "    \"pageInfo\": {\n",
      "        \"resultsPerPage\": 5,\n",
      "        \"totalResults\": 1\n",
      "    }\n",
      "}\n"
     ]
    }
   ],
   "source": [
    "print(json.dumps(response, sort_keys=True, indent=4))"
   ]
  },
  {
   "cell_type": "code",
   "execution_count": 55,
   "metadata": {},
   "outputs": [],
   "source": [
    "#id='UC0UnhAG47DRyVZGVcbhAXhQ'\n",
    "base_url = f'https://youtube.googleapis.com/youtube/v3/channels?part=snippet&part=statistics&id=UCbCmjCuTUZos6Inko4u57UQ&key={g_key}'"
   ]
  },
  {
   "cell_type": "code",
   "execution_count": 46,
   "metadata": {},
   "outputs": [],
   "source": [
    "base_url = f'https://youtube.googleapis.com/youtube/v3/channels?part=snippet&part=statistics&id=UC0UnhAG47DRyVZGVcbhAXhQ&key={g_key}'"
   ]
  },
  {
   "cell_type": "code",
   "execution_count": 56,
   "metadata": {},
   "outputs": [],
   "source": [
    "resp = requests.get(base_url)"
   ]
  },
  {
   "cell_type": "code",
   "execution_count": 57,
   "metadata": {},
   "outputs": [],
   "source": [
    "results = resp.json()\n"
   ]
  },
  {
   "cell_type": "code",
   "execution_count": 58,
   "metadata": {},
   "outputs": [
    {
     "name": "stdout",
     "output_type": "stream",
     "text": [
      "Cocomelon - Nursery Rhymes\n",
      "2006-09-01T22:18:49Z\n",
      "629\n",
      "99306304600\n",
      "US\n"
     ]
    }
   ],
   "source": [
    "print(results['items'][0]['snippet']['title'])\n",
    "print(results['items'][0]['snippet']['publishedAt'])\n",
    "#hiddenSubscriberCount\n",
    "#print(results['items'][0]['statistics']['hiddenSubscriberCount'])\n",
    "print(results['items'][0]['statistics']['videoCount'])\n",
    "print(results['items'][0]['statistics']['viewCount'])\n",
    "print(results['items'][0]['snippet']['country'])"
   ]
  },
  {
   "cell_type": "code",
   "execution_count": 54,
   "metadata": {},
   "outputs": [
    {
     "name": "stdout",
     "output_type": "stream",
     "text": [
      "{'etag': 'RuuXzTIr0OoDqI4S0RU6n4FqKEM',\n",
      " 'kind': 'youtube#channelListResponse',\n",
      " 'pageInfo': {'resultsPerPage': 5, 'totalResults': 0}}\n"
     ]
    }
   ],
   "source": [
    "pprint(results)"
   ]
  }
 ],
 "metadata": {
  "kernelspec": {
   "display_name": "Python 3",
   "language": "python",
   "name": "python3"
  },
  "language_info": {
   "codemirror_mode": {
    "name": "ipython",
    "version": 3
   },
   "file_extension": ".py",
   "mimetype": "text/x-python",
   "name": "python",
   "nbconvert_exporter": "python",
   "pygments_lexer": "ipython3",
   "version": "3.8.5"
  }
 },
 "nbformat": 4,
 "nbformat_minor": 4
}
