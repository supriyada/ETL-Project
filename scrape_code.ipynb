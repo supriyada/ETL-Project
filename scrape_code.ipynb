{
 "cells": [
  {
   "cell_type": "code",
   "execution_count": 6,
   "metadata": {},
   "outputs": [],
   "source": [
    "def top_youtuber():\n",
    "    import pandas as pd\n",
    "\n",
    "    import requests\n",
    "    from splinter import Browser\n",
    "    from bs4 import BeautifulSoup as bs\n",
    "    import urllib.request  as urllib2 \n",
    "    \n",
    "    from selenium import webdriver\n",
    "    from bs4 import BeautifulSoup as soup\n",
    "    import time\n",
    "    import os\n",
    "    from webdriver_manager.chrome import ChromeDriverManager\n",
    "    \n",
    "    driver = webdriver.Chrome(ChromeDriverManager().install())\n",
    "    driver.get('https://www.noxinfluencer.com/youtube-channel-rank/top-100-all-all-youtuber-sorted-by-subs-weekly')\n",
    "    last_height = driver.execute_script(\"return document.body.scrollHeight\")\n",
    "    while True:\n",
    "        driver.execute_script(\"window.scrollTo(0, document.body.scrollHeight);\")\n",
    "        time.sleep(0.5)\n",
    "        new_height = driver.execute_script(\"return document.body.scrollHeight\")\n",
    "        if new_height == last_height:\n",
    "            break\n",
    "        last_height = new_height\n",
    "\n",
    "    user_df = pd.DataFrame({'Channel_id':[],\n",
    "                                'Channel_title':[],\n",
    "                                'Category_name':[]})\n",
    "    try:\n",
    "        table_data = soup(driver.page_source,'html.parser').findAll('tr', attrs={'class':'item'})\n",
    "        for data in table_data:\n",
    "            id = data.find('a')['href']\n",
    "            name = data.find('span', {'class':\"name kol-name\"}).text\n",
    "            category = data.find('a',{'class':\"category-text\"}).text\n",
    "\n",
    "            user_df = user_df.append({'Channel_id':id,\n",
    "                                    'Channel_title':name,\n",
    "                                    'Category_name':category},ignore_index = True)      \n",
    "\n",
    "    except:\n",
    "        print(error)\n",
    "\n",
    "    driver.quit()\n",
    "\n",
    "    user_df[['empty','youtube','channel','Channel_id']] = user_df['Channel_id'].str.split('/',expand=True)\n",
    "\n",
    "    user_info_df = user_df.drop(['empty', 'youtube','channel'], axis = 1)\n",
    "    \n",
    "    user_info_output=os.path.join('Resources','Output Data','channel_scrapped_details.csv')\n",
    "    user_info_df.to_csv(user_info_output,index=False)\n",
    "\n",
    "    return user_info_df"
   ]
  }
 ],
 "metadata": {
  "kernelspec": {
   "display_name": "Python 3",
   "language": "python",
   "name": "python3"
  },
  "language_info": {
   "codemirror_mode": {
    "name": "ipython",
    "version": 3
   },
   "file_extension": ".py",
   "mimetype": "text/x-python",
   "name": "python",
   "nbconvert_exporter": "python",
   "pygments_lexer": "ipython3",
   "version": "3.8.5"
  }
 },
 "nbformat": 4,
 "nbformat_minor": 4
}
