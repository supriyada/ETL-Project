{
 "cells": [
  {
   "cell_type": "code",
   "execution_count": 1,
   "metadata": {},
   "outputs": [],
   "source": [
    "def category_clean_data():\n",
    "    import pandas as pd\n",
    "    import json\n",
    "    import os\n",
    "    from pprint import pprint\n",
    "\n",
    "    video_categ_file=os.path.join('Resources','Raw Data','category_id.json')\n",
    "    category_raw_df = pd.read_json(video_categ_file)\n",
    "\n",
    "    df = pd.DataFrame([i for i in category_raw_df['items']])\n",
    "\n",
    "    video_categ_raw_df = pd.DataFrame(columns = ['Category_id','Category_Name'])\n",
    "    video_categ_raw_df['Category_id'] = df['id']\n",
    "    video_categ_raw_df['Category_Name'] = df['snippet']\n",
    "\n",
    "    video_categ_df = pd.concat([video_categ_raw_df.drop('Category_Name', axis=1), \n",
    "                                pd.DataFrame(video_categ_raw_df['Category_Name'].tolist())], axis=1)\n",
    "    \n",
    "    video_category1_df = video_categ_df.drop(['channelId', 'assignable'], axis = 1)\n",
    "    \n",
    "    video_category_df = video_category1_df.rename(columns={'title':'Category_Name'})\n",
    "    \n",
    "    return(video_category_df)"
   ]
  },
  {
   "cell_type": "code",
   "execution_count": null,
   "metadata": {},
   "outputs": [],
   "source": []
  },
  {
   "cell_type": "code",
   "execution_count": null,
   "metadata": {},
   "outputs": [],
   "source": []
  }
 ],
 "metadata": {
  "kernelspec": {
   "display_name": "Python 3",
   "language": "python",
   "name": "python3"
  },
  "language_info": {
   "codemirror_mode": {
    "name": "ipython",
    "version": 3
   },
   "file_extension": ".py",
   "mimetype": "text/x-python",
   "name": "python",
   "nbconvert_exporter": "python",
   "pygments_lexer": "ipython3",
   "version": "3.8.5"
  }
 },
 "nbformat": 4,
 "nbformat_minor": 4
}
